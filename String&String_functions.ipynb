{
  "nbformat": 4,
  "nbformat_minor": 0,
  "metadata": {
    "colab": {
      "name": "String&String_functions.ipynb",
      "provenance": [],
      "collapsed_sections": []
    },
    "kernelspec": {
      "name": "python3",
      "display_name": "Python 3"
    },
    "language_info": {
      "name": "python"
    }
  },
  "cells": [
    {
      "cell_type": "code",
      "metadata": {
        "colab": {
          "base_uri": "https://localhost:8080/",
          "height": 195
        },
        "id": "YjEJrETCgDwh",
        "outputId": "aaaab927-c252-4216-b916-5d6bf860de2f"
      },
      "source": [
        "#Create a string and print it.\n",
        "string = input('String is >> ')\n",
        "print(string)"
      ],
      "execution_count": 111,
      "outputs": [
        {
          "output_type": "error",
          "ename": "TypeError",
          "evalue": "ignored",
          "traceback": [
            "\u001b[0;31m---------------------------------------------------------------------------\u001b[0m",
            "\u001b[0;31mTypeError\u001b[0m                                 Traceback (most recent call last)",
            "\u001b[0;32m<ipython-input-111-2a4172535b71>\u001b[0m in \u001b[0;36m<module>\u001b[0;34m()\u001b[0m\n\u001b[1;32m      1\u001b[0m \u001b[0;31m#Create a string and print it.\u001b[0m\u001b[0;34m\u001b[0m\u001b[0;34m\u001b[0m\u001b[0;34m\u001b[0m\u001b[0m\n\u001b[0;32m----> 2\u001b[0;31m \u001b[0mstring\u001b[0m \u001b[0;34m=\u001b[0m \u001b[0minput\u001b[0m\u001b[0;34m(\u001b[0m\u001b[0;34m'String is >> '\u001b[0m\u001b[0;34m)\u001b[0m\u001b[0;34m\u001b[0m\u001b[0;34m\u001b[0m\u001b[0m\n\u001b[0m\u001b[1;32m      3\u001b[0m \u001b[0mprint\u001b[0m\u001b[0;34m(\u001b[0m\u001b[0mstring\u001b[0m\u001b[0;34m)\u001b[0m\u001b[0;34m\u001b[0m\u001b[0;34m\u001b[0m\u001b[0m\n",
            "\u001b[0;31mTypeError\u001b[0m: 'str' object is not callable"
          ]
        }
      ]
    },
    {
      "cell_type": "code",
      "metadata": {
        "colab": {
          "base_uri": "https://localhost:8080/"
        },
        "id": "RKtW3l2pgdSJ",
        "outputId": "f8202543-8a14-4650-e2c9-e58a4459efec"
      },
      "source": [
        "#Take a string input and print it's length.\n",
        "string = input('String is >> ')\n",
        "string = string.split(' ')\n",
        "for i in string:\n",
        "  print(f'length of {i} is :{len(i)}')"
      ],
      "execution_count": 13,
      "outputs": [
        {
          "output_type": "stream",
          "name": "stdout",
          "text": [
            "String is >> a bb\n",
            "length of a is :1\n",
            "length of bb is :2\n"
          ]
        }
      ]
    },
    {
      "cell_type": "code",
      "metadata": {
        "colab": {
          "base_uri": "https://localhost:8080/"
        },
        "id": "8BPuzhYwhFvr",
        "outputId": "be00f58f-b2fa-4e95-baa8-6496bcf9448b"
      },
      "source": [
        "#Print the last word of the string Python is great using slices.\n",
        "\n",
        "string = '''Python is great'''\n",
        "print(string[7:9],string[-5:])\n"
      ],
      "execution_count": 45,
      "outputs": [
        {
          "output_type": "stream",
          "name": "stdout",
          "text": [
            "is great\n"
          ]
        }
      ]
    },
    {
      "cell_type": "code",
      "metadata": {
        "colab": {
          "base_uri": "https://localhost:8080/"
        },
        "id": "ENLMopyzmL8m",
        "outputId": "e906ea5d-693c-4208-f774-72ce6f0ce377"
      },
      "source": [
        "#Print the each word in different line of string python is everywhere.\n",
        "string = \"Python is everywhere\"\n",
        "string = string.split(' ')\n",
        "for i in string:\n",
        "  print(i)\n"
      ],
      "execution_count": 19,
      "outputs": [
        {
          "output_type": "stream",
          "name": "stdout",
          "text": [
            "Python\n",
            "is\n",
            "everywhere\n"
          ]
        }
      ]
    },
    {
      "cell_type": "code",
      "metadata": {
        "colab": {
          "base_uri": "https://localhost:8080/"
        },
        "id": "A0E3QyYGpN1N",
        "outputId": "bf81ab79-0cbb-4e77-ace5-3ffd59d1ac9f"
      },
      "source": [
        "#Print the string Hello World! in reverse.\n",
        "string = 'Hello World!'\n",
        "print(string[::-1])"
      ],
      "execution_count": 24,
      "outputs": [
        {
          "output_type": "stream",
          "name": "stdout",
          "text": [
            "!dlroW olleH\n"
          ]
        }
      ]
    },
    {
      "cell_type": "code",
      "metadata": {
        "colab": {
          "base_uri": "https://localhost:8080/"
        },
        "id": "2QP6ao4xqHn6",
        "outputId": "dec42471-1932-497a-c698-88c0049f893f"
      },
      "source": [
        "#Convert the string How are you? in uppercase.\n",
        "string = 'How are you?'\n",
        "print(string.upper())"
      ],
      "execution_count": 31,
      "outputs": [
        {
          "output_type": "stream",
          "name": "stdout",
          "text": [
            "HOW ARE YOU?\n"
          ]
        }
      ]
    },
    {
      "cell_type": "code",
      "metadata": {
        "colab": {
          "base_uri": "https://localhost:8080/"
        },
        "id": "KD9fuvwIqsOj",
        "outputId": "e92e9ec2-59a7-433a-886f-bb4964468e90"
      },
      "source": [
        "#Convert the string How Is It Going? in lowercase.\n",
        "string = 'How Is It Going?'\n",
        "print(string.lower())"
      ],
      "execution_count": 33,
      "outputs": [
        {
          "output_type": "stream",
          "name": "stdout",
          "text": [
            "how is it going?\n"
          ]
        }
      ]
    },
    {
      "cell_type": "code",
      "metadata": {
        "colab": {
          "base_uri": "https://localhost:8080/"
        },
        "id": "5L06Ve4Tqu-t",
        "outputId": "1874eaae-b6a4-43c0-f08c-5f7273b3984e"
      },
      "source": [
        "#Join the following list by spaces( ) and print the result.\n",
        "words = ['Python', 'is', 'easy', 'to', 'learn']\n",
        "a = ' '.join(words)\n",
        "print(a)"
      ],
      "execution_count": 49,
      "outputs": [
        {
          "output_type": "stream",
          "name": "stdout",
          "text": [
            "Python is easy to learn\n"
          ]
        }
      ]
    },
    {
      "cell_type": "code",
      "metadata": {
        "colab": {
          "base_uri": "https://localhost:8080/"
        },
        "id": "aZCwbR5dtdCB",
        "outputId": "8c40a366-bf89-470d-9669-77a88a94c0ad"
      },
      "source": [
        "#Print a multiline string using a single print\n",
        "a = '''My name is Bhawna Chaudhary.\n",
        "I don't like hypocrites.\n",
        "I love to be in all together work environment.'''\n",
        "print(a)\n"
      ],
      "execution_count": 65,
      "outputs": [
        {
          "output_type": "stream",
          "name": "stdout",
          "text": [
            "My name is Bhawna Chaudhary.\n",
            "I don't like hypocrites.\n",
            "I love to be in all together work environment.\n"
          ]
        }
      ]
    },
    {
      "cell_type": "code",
      "metadata": {
        "colab": {
          "base_uri": "https://localhost:8080/"
        },
        "id": "dccze9OGtv1R",
        "outputId": "bdb8676e-ada9-4ed0-bbc4-37c06fe1029c"
      },
      "source": [
        "#Print this string to move to newline '\\n' is used. (results should look exactly like the provided string)\n",
        "string = \"To move to newline '\\\\n' is used\"\n",
        "print(string)"
      ],
      "execution_count": 77,
      "outputs": [
        {
          "output_type": "stream",
          "name": "stdout",
          "text": [
            "To move to newline '\\n' is used\n"
          ]
        }
      ]
    },
    {
      "cell_type": "code",
      "metadata": {
        "colab": {
          "base_uri": "https://localhost:8080/"
        },
        "id": "ARzUzJfQt0PX",
        "outputId": "86c7f96f-381e-49b9-a24c-1d42328b7aec"
      },
      "source": [
        "#Print a variable with some text using a single print function, output should look like following.\n",
        "#the variable is 15\n",
        "variable = int(input(''))\n",
        "print(f'the variable is {variable}')"
      ],
      "execution_count": 79,
      "outputs": [
        {
          "output_type": "stream",
          "name": "stdout",
          "text": [
            "15\n",
            "the variable is 15\n"
          ]
        }
      ]
    },
    {
      "cell_type": "code",
      "metadata": {
        "colab": {
          "base_uri": "https://localhost:8080/"
        },
        "id": "jDCytHXSt3Ep",
        "outputId": "01a59244-de89-4800-c978-6b52e68232ec"
      },
      "source": [
        "#concatenate the following strings and print the result\n",
        "s1 = 'python '\n",
        "s2 = 'is '\n",
        "s3 = 'great.'\n",
        "s4 = s1 + s2 + s3\n",
        "print(s4)"
      ],
      "execution_count": 80,
      "outputs": [
        {
          "output_type": "stream",
          "name": "stdout",
          "text": [
            "python is great.\n"
          ]
        }
      ]
    },
    {
      "cell_type": "code",
      "metadata": {
        "colab": {
          "base_uri": "https://localhost:8080/"
        },
        "id": "MJYGxMc5t6Ki",
        "outputId": "6add6748-f5d3-4b57-892b-dc3b44671889"
      },
      "source": [
        "#Print # 20 times without using a loop\n",
        "symbol = '#'\n",
        "print(symbol*20)\n"
      ],
      "execution_count": 83,
      "outputs": [
        {
          "output_type": "stream",
          "name": "stdout",
          "text": [
            "####################\n"
          ]
        }
      ]
    },
    {
      "cell_type": "code",
      "metadata": {
        "colab": {
          "base_uri": "https://localhost:8080/"
        },
        "id": "2F3agnYlt9-v",
        "outputId": "41e030c5-8daa-4c7a-c724-c8fe3efdff59"
      },
      "source": [
        "#Print numbers from 1 to 9, each on a seperate line, followed by a dot, output should look like the following-\n",
        "#1.\n",
        "#2.\n",
        "#3.\n",
        "for i in range(1,10):\n",
        "  print(i,\".\")\n"
      ],
      "execution_count": 100,
      "outputs": [
        {
          "output_type": "stream",
          "name": "stdout",
          "text": [
            "1 .\n",
            "2 .\n",
            "3 .\n",
            "4 .\n",
            "5 .\n",
            "6 .\n",
            "7 .\n",
            "8 .\n",
            "9 .\n"
          ]
        }
      ]
    },
    {
      "cell_type": "code",
      "metadata": {
        "colab": {
          "base_uri": "https://localhost:8080/",
          "height": 178
        },
        "id": "CeAPhU3xuBX9",
        "outputId": "ae4c001b-b753-440e-c412-e49424c5cd98"
      },
      "source": [
        "#Ask user to input a sentence and print each word on a different line.\n",
        "string = input(\"Sentence is >> \")"
      ],
      "execution_count": 109,
      "outputs": [
        {
          "output_type": "error",
          "ename": "TypeError",
          "evalue": "ignored",
          "traceback": [
            "\u001b[0;31m---------------------------------------------------------------------------\u001b[0m",
            "\u001b[0;31mTypeError\u001b[0m                                 Traceback (most recent call last)",
            "\u001b[0;32m<ipython-input-109-13820f088841>\u001b[0m in \u001b[0;36m<module>\u001b[0;34m()\u001b[0m\n\u001b[1;32m      1\u001b[0m \u001b[0;31m#Ask user to input a sentence and print each word on a different line.\u001b[0m\u001b[0;34m\u001b[0m\u001b[0;34m\u001b[0m\u001b[0;34m\u001b[0m\u001b[0m\n\u001b[0;32m----> 2\u001b[0;31m \u001b[0mstring\u001b[0m \u001b[0;34m=\u001b[0m \u001b[0minput\u001b[0m\u001b[0;34m(\u001b[0m\u001b[0;34m\"Sentence is >> \"\u001b[0m\u001b[0;34m)\u001b[0m\u001b[0;34m\u001b[0m\u001b[0;34m\u001b[0m\u001b[0m\n\u001b[0m",
            "\u001b[0;31mTypeError\u001b[0m: 'str' object is not callable"
          ]
        }
      ]
    },
    {
      "cell_type": "code",
      "metadata": {
        "colab": {
          "base_uri": "https://localhost:8080/",
          "height": 178
        },
        "id": "I-KyOyNVuIdb",
        "outputId": "baf72185-7a81-4e4b-efae-7a32cfcbe9b6"
      },
      "source": [
        "#Ask user to input a string and check if the string ends with '?'\n",
        "abc = input('my text is>>')"
      ],
      "execution_count": 110,
      "outputs": [
        {
          "output_type": "error",
          "ename": "TypeError",
          "evalue": "ignored",
          "traceback": [
            "\u001b[0;31m---------------------------------------------------------------------------\u001b[0m",
            "\u001b[0;31mTypeError\u001b[0m                                 Traceback (most recent call last)",
            "\u001b[0;32m<ipython-input-110-ebff468b6fa6>\u001b[0m in \u001b[0;36m<module>\u001b[0;34m()\u001b[0m\n\u001b[1;32m      1\u001b[0m \u001b[0;31m#Ask user to input a string and check if the string ends with '?'\u001b[0m\u001b[0;34m\u001b[0m\u001b[0;34m\u001b[0m\u001b[0;34m\u001b[0m\u001b[0m\n\u001b[0;32m----> 2\u001b[0;31m \u001b[0mabc\u001b[0m \u001b[0;34m=\u001b[0m \u001b[0minput\u001b[0m\u001b[0;34m(\u001b[0m\u001b[0;34m'my text is>>'\u001b[0m\u001b[0;34m)\u001b[0m\u001b[0;34m\u001b[0m\u001b[0;34m\u001b[0m\u001b[0m\n\u001b[0m",
            "\u001b[0;31mTypeError\u001b[0m: 'str' object is not callable"
          ]
        }
      ]
    },
    {
      "cell_type": "code",
      "metadata": {
        "id": "ZRfMsOcbuLkh"
      },
      "source": [
        "#Ask user to input a string and print how many times e appeared in the string\n"
      ],
      "execution_count": 56,
      "outputs": []
    },
    {
      "cell_type": "code",
      "metadata": {
        "id": "b413FUkUuOeT"
      },
      "source": [
        "#Check if the user input is a number.\n"
      ],
      "execution_count": 57,
      "outputs": []
    },
    {
      "cell_type": "code",
      "metadata": {
        "id": "9YiCjxGRuRjt"
      },
      "source": [
        "#Remove the extra spaces in beginning and in the end of the following string-\n",
        "text = '   this is not a good string   \n"
      ],
      "execution_count": null,
      "outputs": []
    },
    {
      "cell_type": "code",
      "metadata": {
        "id": "hQasQc9HuaYY"
      },
      "source": [
        "#Ask user to input string, print found if any of the character is upper case.\n"
      ],
      "execution_count": 58,
      "outputs": []
    },
    {
      "cell_type": "code",
      "metadata": {
        "id": "QmM53rovudUW"
      },
      "source": [
        "#Extract names from the following string and store them in a list.\n",
        "names = 'Joe, David, Mark, Tom, Chris, Robert'"
      ],
      "execution_count": null,
      "outputs": []
    },
    {
      "cell_type": "code",
      "metadata": {
        "id": "Sy4rtnSsugun"
      },
      "source": [
        "#In the following string, add aye in the end of every word and print the results.\n",
        "text = 'this is some text'"
      ],
      "execution_count": null,
      "outputs": []
    },
    {
      "cell_type": "code",
      "metadata": {
        "id": "jZvOX9L0ukMU"
      },
      "source": [
        "#ask user to enter a string and check if the string contains fyi\n"
      ],
      "execution_count": 59,
      "outputs": []
    },
    {
      "cell_type": "code",
      "metadata": {
        "id": "xq_j1ojTunD2"
      },
      "source": [
        "#Remove all the special characters and numbers from the following string\n",
        "text = '%p34@y!*-*!t68h#&on404'"
      ],
      "execution_count": null,
      "outputs": []
    },
    {
      "cell_type": "code",
      "metadata": {
        "id": "6vlpt75Muqey"
      },
      "source": [
        "#calculate the average word length of the following paragraph.\n",
        "this is a paragraph which is written just for the purpose of providing content to let the average word length be calculated\n"
      ],
      "execution_count": null,
      "outputs": []
    }
  ]
}